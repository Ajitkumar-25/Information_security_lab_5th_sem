{
  "cells": [
    {
      "cell_type": "markdown",
      "metadata": {
        "id": "K0JztzWxyFsJ"
      },
      "source": [
        "# Image Encryption And Decryption Using Triple_DES"
      ]
    },
    {
      "cell_type": "code",
      "execution_count": 1,
      "metadata": {
        "colab": {
          "base_uri": "https://localhost:8080/"
        },
        "id": "y-p-AOjHxbxQ",
        "outputId": "f0618319-5c7a-4950-9e9d-bcc12e011af3"
      },
      "outputs": [
        {
          "name": "stdout",
          "output_type": "stream",
          "text": [
            "Requirement already satisfied: pycryptodome in c:\\users\\asus\\appdata\\local\\programs\\python\\python311\\lib\\site-packages (3.19.0)\n",
            "Note: you may need to restart the kernel to use updated packages.\n"
          ]
        }
      ],
      "source": [
        "pip install pycryptodome"
      ]
    },
    {
      "cell_type": "code",
      "execution_count": 3,
      "metadata": {},
      "outputs": [
        {
          "name": "stdout",
          "output_type": "stream",
          "text": [
            "Requirement already satisfied: Crypto in c:\\users\\asus\\appdata\\local\\programs\\python\\python311\\lib\\site-packages (1.4.1)\n",
            "Requirement already satisfied: Naked in c:\\users\\asus\\appdata\\local\\programs\\python\\python311\\lib\\site-packages (from Crypto) (0.1.32)\n",
            "Requirement already satisfied: shellescape in c:\\users\\asus\\appdata\\local\\programs\\python\\python311\\lib\\site-packages (from Crypto) (3.8.1)\n",
            "Requirement already satisfied: requests in c:\\users\\asus\\appdata\\local\\programs\\python\\python311\\lib\\site-packages (from Naked->Crypto) (2.31.0)\n",
            "Requirement already satisfied: pyyaml in c:\\users\\asus\\appdata\\local\\programs\\python\\python311\\lib\\site-packages (from Naked->Crypto) (6.0.1)\n",
            "Requirement already satisfied: charset-normalizer<4,>=2 in c:\\users\\asus\\appdata\\local\\programs\\python\\python311\\lib\\site-packages (from requests->Naked->Crypto) (3.3.0)\n",
            "Requirement already satisfied: idna<4,>=2.5 in c:\\users\\asus\\appdata\\local\\programs\\python\\python311\\lib\\site-packages (from requests->Naked->Crypto) (3.4)\n",
            "Requirement already satisfied: urllib3<3,>=1.21.1 in c:\\users\\asus\\appdata\\local\\programs\\python\\python311\\lib\\site-packages (from requests->Naked->Crypto) (2.0.6)\n",
            "Requirement already satisfied: certifi>=2017.4.17 in c:\\users\\asus\\appdata\\local\\programs\\python\\python311\\lib\\site-packages (from requests->Naked->Crypto) (2023.7.22)\n",
            "Note: you may need to restart the kernel to use updated packages.\n"
          ]
        }
      ],
      "source": [
        "pip install Crypto"
      ]
    },
    {
      "cell_type": "markdown",
      "metadata": {
        "id": "MzfG9cwXySUq"
      },
      "source": [
        "**Importing Necessary Libraries**"
      ]
    },
    {
      "cell_type": "code",
      "execution_count": 4,
      "metadata": {
        "id": "M--KBDk0xMDb"
      },
      "outputs": [
        {
          "ename": "ModuleNotFoundError",
          "evalue": "No module named 'Crypto'",
          "output_type": "error",
          "traceback": [
            "\u001b[1;31m---------------------------------------------------------------------------\u001b[0m",
            "\u001b[1;31mModuleNotFoundError\u001b[0m                       Traceback (most recent call last)",
            "\u001b[1;32md:\\college stuff\\sem 5 workspace\\Information_security_lab_5th_sem\\Project\\IS_Project.ipynb Cell 5\u001b[0m line \u001b[0;36m1\n\u001b[1;32m----> <a href='vscode-notebook-cell:/d%3A/college%20stuff/sem%205%20workspace/Information_security_lab_5th_sem/Project/IS_Project.ipynb#W3sZmlsZQ%3D%3D?line=0'>1</a>\u001b[0m \u001b[39mfrom\u001b[39;00m \u001b[39mCrypto\u001b[39;00m\u001b[39m.\u001b[39;00m\u001b[39mCipher\u001b[39;00m \u001b[39mimport\u001b[39;00m DES\n\u001b[0;32m      <a href='vscode-notebook-cell:/d%3A/college%20stuff/sem%205%20workspace/Information_security_lab_5th_sem/Project/IS_Project.ipynb#W3sZmlsZQ%3D%3D?line=1'>2</a>\u001b[0m \u001b[39mfrom\u001b[39;00m \u001b[39mCrypto\u001b[39;00m\u001b[39m.\u001b[39;00m\u001b[39mHash\u001b[39;00m \u001b[39mimport\u001b[39;00m SHA256\n\u001b[0;32m      <a href='vscode-notebook-cell:/d%3A/college%20stuff/sem%205%20workspace/Information_security_lab_5th_sem/Project/IS_Project.ipynb#W3sZmlsZQ%3D%3D?line=2'>3</a>\u001b[0m \u001b[39mimport\u001b[39;00m \u001b[39mturtle\u001b[39;00m\n",
            "\u001b[1;31mModuleNotFoundError\u001b[0m: No module named 'Crypto'"
          ]
        }
      ],
      "source": [
        "from Crypto.Cipher import DES\n",
        "from Crypto.Hash import SHA256\n",
        "import turtle\n",
        "import requests\n",
        "from getpass import getpass\n",
        "from Crypto.Protocol.KDF import PBKDF2"
      ]
    },
    {
      "cell_type": "code",
      "execution_count": 4,
      "metadata": {
        "id": "cVeb2963xWbS"
      },
      "outputs": [],
      "source": [
        "Key_length=100005\n",
        "salt=\"$ez*&214097GDAKACNASC;LSOSSBAdjskasnmosuf!@#$^()_adsa\""
      ]
    },
    {
      "cell_type": "markdown",
      "metadata": {
        "id": "hXTdPlO4yCAb"
      },
      "source": [
        "**#Encrypting function**"
      ]
    },
    {
      "cell_type": "code",
      "execution_count": 5,
      "metadata": {
        "id": "mZ2rO1JXxaME"
      },
      "outputs": [],
      "source": [
        "def encryptor(path):\n",
        "\t#Opening the image file\n",
        "\ttry:\n",
        "\t\twith open(path, 'rb') as imagefile:\n",
        "\t\t\timage=imagefile.read()\n",
        "\n",
        "\t\t#Padding\n",
        "\t\twhile len(image)%8!=0:\n",
        "\t\t\timage+=b\" \"\n",
        "\texcept:\n",
        "\t\tprint(\"Error loading the file, make sure file is in same directory, spelled correctly and non-corrupted\")\n",
        "\t\texit()\n",
        "\n",
        "\t#hashing original image in SHA256\n",
        "\thash_of_original=SHA256.new(data=image)\n",
        "\n",
        "\n",
        "\n",
        "\t#Inputting Keys\n",
        "\tkey_enc=getpass(prompt=\"Enter minimum 8 character long password:\")\n",
        "\t#Checking if key is of invalid length\n",
        "\twhile len(key_enc)<8:\n",
        "\t\tkey_enc=getpass(prompt=\"Invalid password! Enter atleast 8 character password:\")\n",
        "\n",
        "\tkey_enc_confirm=getpass(prompt=\"Enter password again:\")\n",
        "\twhile key_enc!=key_enc_confirm:\n",
        "\t\tprint(\"Key Mismatch.Try again!!!!!\")\n",
        "\t\tkey_enc=getpass(prompt=\"Enter 8 character long password:\")\n",
        "\n",
        "\t\t#Checking if key is of invalid length\n",
        "\t\twhile len(key_enc)<8:\n",
        "\t\t\tkey_enc=getpass(prompt=\"Invalid password! Enter atleast 8 character password:\")\n",
        "\t\tkey_enc_confirm=getpass(prompt=\"Enter password again:\")\n",
        "\n",
        "\n",
        "\t#Salting and hashing password\n",
        "\tkey_enc=PBKDF2(key_enc,salt,48,Key_length)\n",
        "\n",
        "\n",
        "\t#Encrypting using triple 3 key DES\n",
        "\tprint(\"Wait it is being encrypting.....\\n\")\n",
        "\ttry:\n",
        "\n",
        "\t\tcipher1=DES.new(key_enc[0:8],DES.MODE_CBC,key_enc[24:32])\n",
        "\t\tciphertext1=cipher1.encrypt(image)\n",
        "\t\tcipher2=DES.new(key_enc[8:16],DES.MODE_CBC,key_enc[32:40])\n",
        "\t\tciphertext2=cipher2.decrypt(ciphertext1)\n",
        "\t\tcipher3=DES.new(key_enc[16:24],DES.MODE_CBC,key_enc[40:48])\n",
        "\t\tciphertext3=cipher3.encrypt(ciphertext2)\n",
        "\n",
        "\t\tprint(\"\\n------ENCRYPTION SUCCESSFUL-------\")\n",
        "\texcept:\n",
        "\t\tprint(\"\tEncryption failed...Possible causes:Library not installed properly/low device memory/Incorrect padding or conversions\")\n",
        "\t\texit()\n",
        "\n",
        "\t#Adding hash at end of encrypted bytes\n",
        "\tciphertext3+=hash_of_original.digest()\n",
        "\n",
        "\n",
        "\t#Saving the file encrypted\n",
        "\ttry:\n",
        "\t\tdpath=\"encrypted_\"+path\n",
        "\t\twith open(dpath, 'wb') as image_file:\n",
        "\t\t\t\timage_file.write(ciphertext3)\n",
        "\t\tprint(\"Encrypted Image Saved successfully as filename \"+dpath)\n",
        "\n",
        "\n",
        "\texcept:\n",
        "\t\ttemp_path=input(\"Saving file failed!. Enter alternate name without format to save the encrypted file. If it is still failing then check system memory\")\n",
        "\t\ttry:\n",
        "\t\t\tdpath=temp_path+path\n",
        "\t\t\tdpath=\"encrypted_\"+path\n",
        "\t\t\twith open(dpath, 'wb') as image_file:\n",
        "\t\t\t\t\timage_file.write(ciphertext3)\n",
        "\t\t\tprint(\"Encrypted Image Saved successfully as filename in the same directory \"+dpath)\n",
        "\t\t\texit()\n",
        "\t\texcept:\n",
        "\t\t\tprint(\"\tFailed....Exiting...\")\n",
        "\t\t\texit()"
      ]
    },
    {
      "cell_type": "markdown",
      "metadata": {
        "id": "_kyxntC7yZEx"
      },
      "source": [
        "**Decryption Function**"
      ]
    },
    {
      "cell_type": "code",
      "execution_count": 6,
      "metadata": {
        "id": "zRXDK8NKx9TV"
      },
      "outputs": [],
      "source": [
        "def decryptor(encrypted_image_path):\n",
        "\n",
        "\ttry:\n",
        "\t\twith open(encrypted_image_path,'rb') as encrypted_file:\n",
        "\t\t\tencrypted_data_with_hash=encrypted_file.read()\n",
        "\n",
        "\texcept:\n",
        "\t\tprint(\"\tUnable to read source cipher data. Make sure the file is in same directory...Exiting...\")\n",
        "\t\texit()\n",
        "\n",
        "\n",
        "\t#Key Authentication\n",
        "\tkey_dec=getpass(prompt=\"Enter password:\")\n",
        "\n",
        "\n",
        "\t#extracting hash and cipher data without hash\n",
        "\textracted_hash=encrypted_data_with_hash[-32:]\n",
        "\tencrypted_data=encrypted_data_with_hash[:-32]\n",
        "\n",
        "\n",
        "\t#salting and hashing password\n",
        "\tkey_dec=PBKDF2(key_dec,salt,48,Key_length)\n",
        "\n",
        "\n",
        "\t#decrypting using triple 3 key DES\n",
        "\tprint(\"\tDecrypting...\")\n",
        "\ttry:\n",
        "\n",
        "\t\tcipher1=DES.new(key_dec[16:24],DES.MODE_CBC,key_dec[40:48])\n",
        "\t\tplaintext1=cipher1.decrypt(encrypted_data)\n",
        "\t\tcipher2=DES.new(key_dec[8:16],DES.MODE_CBC,key_dec[32:40])\n",
        "\t\tplaintext2=cipher2.encrypt(plaintext1)\n",
        "\t\tcipher3=DES.new(key_dec[0:8],DES.MODE_CBC,key_dec[24:32])\n",
        "\t\tplaintext3=cipher3.decrypt(plaintext2)\n",
        "\n",
        "\n",
        "\texcept:\n",
        "\t\tprint(\"Decryption failed...Possible causes:Library not installed properly/low device memory/Incorrect padding or conversions\")\n",
        "\n",
        "\t#hashing decrypted plain text\n",
        "\thash_of_decrypted=SHA256.new(data=plaintext3)\n",
        "\n",
        "\n",
        "\t#matching hashes\n",
        "\tif hash_of_decrypted.digest()==extracted_hash:\n",
        "\t\tprint(\"Password Correct !!!\")\n",
        "\t\tprint(\"\t------DECRYPTION SUCCESSFUL------\")\n",
        "\telse:\n",
        "\t\tprint(\"Incorrect Password!!!!!\")\n",
        "\t\texit()\n",
        "\n",
        "\n",
        "\n",
        "\t#saving the decrypted file\n",
        "\ttry:\n",
        "\t\tepath=encrypted_image_path\n",
        "\t\tif epath[:10]==\"encrypted_\":\n",
        "\t\t\tepath=epath[10:]\n",
        "\t\tepath=\"decrypted_\"+epath\n",
        "\t\twith open(epath, 'wb') as image_file:\n",
        "\t\t\timage_file.write(plaintext3)\n",
        "\t\tprint(\"\tImage saved successully with name \" + epath)\n",
        "\texcept:\n",
        "\t\ttemp_path=input(\"Saving file failed!. Enter alternate name without format to save the decrypted file. If it is still failing then check system memory\")\n",
        "\t\ttry:\n",
        "\t\t\tepath=temp_path+encrypted_image_path\n",
        "\t\t\twith open(epath, 'wb') as image_file:\n",
        "\t\t\t\timage_file.write(plaintext3)\n",
        "\t\t\tprint(\"\tImage saved successully with name \" + epath)\n",
        "\t\t\tprint(\"\tNote: If the decrypted image is appearing to be corrupted then password may be wrong or it may be file format error\")\n",
        "\t\texcept:\n",
        "\t\t\tprint(\"Failed! Exiting...\")\n",
        "\t\t\texit()"
      ]
    },
    {
      "cell_type": "code",
      "execution_count": 8,
      "metadata": {
        "colab": {
          "base_uri": "https://localhost:8080/"
        },
        "id": "pllGPddYy1xC",
        "outputId": "b8dff443-52f1-493a-f2fd-01d81c0d7566"
      },
      "outputs": [
        {
          "name": "stdout",
          "output_type": "stream",
          "text": [
            "\t\t\n",
            "Choose 1 for Encryption || 2 for Decryption: \n",
            "2\n",
            "Enter image's name to decrypted:\n",
            "encrypted_jiit.jpeg\n",
            "Enter password:··········\n",
            "\tDecrypting...\n",
            "Password Correct !!!\n",
            "\t------DECRYPTION SUCCESSFUL------\n",
            "\tImage saved successully with name decrypted_jiit.jpeg\n"
          ]
        }
      ],
      "source": [
        "try:\n",
        "\tchoice=int(input(\"\t\t\\nChoose 1 for Encryption || 2 for Decryption: \\n\"))\n",
        "\twhile choice!=1 and choice!=2:\n",
        "\t\tchoice=int(input(\"\t\t      Invalid Choice! Try Again:\\n\"))\n",
        "except:\n",
        "\tprint(\"Error, please provide valid Input\")\n",
        "\texit()\n",
        "\n",
        "\n",
        "\n",
        "if choice==1:\n",
        "#Encryption Mode, function call\n",
        "\tpath=input(\"Enter image's name to be encypted:\\n\")\n",
        "\tencryptor(path)\n",
        "\n",
        "\n",
        "\n",
        "else:\n",
        "#Decryption mode, function call\n",
        "\tencrypted_image_path=input(\"Enter image's name to decrypted:\\n\")\n",
        "\tdecryptor(encrypted_image_path)"
      ]
    },
    {
      "cell_type": "code",
      "execution_count": null,
      "metadata": {
        "id": "RM0CVh_1zoFm"
      },
      "outputs": [],
      "source": []
    }
  ],
  "metadata": {
    "colab": {
      "provenance": []
    },
    "kernelspec": {
      "display_name": "Python 3",
      "name": "python3"
    },
    "language_info": {
      "codemirror_mode": {
        "name": "ipython",
        "version": 3
      },
      "file_extension": ".py",
      "mimetype": "text/x-python",
      "name": "python",
      "nbconvert_exporter": "python",
      "pygments_lexer": "ipython3",
      "version": "3.11.5"
    }
  },
  "nbformat": 4,
  "nbformat_minor": 0
}
