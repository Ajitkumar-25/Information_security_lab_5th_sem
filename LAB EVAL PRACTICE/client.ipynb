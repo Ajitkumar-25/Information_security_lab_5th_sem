{
 "cells": [
  {
   "cell_type": "code",
   "execution_count": 4,
   "metadata": {},
   "outputs": [
    {
     "name": "stdout",
     "output_type": "stream",
     "text": [
      "Encrypted message sent to server: Khoor Pb qdph lv Dmlw Nxpdu\n",
      "Decrypted message received from server: Hello My name is Ajit Kumar\n"
     ]
    }
   ],
   "source": [
    "import socket\n",
    "\n",
    "def caesar_cipher(text, shift):\n",
    "    encrypted_text = \"\"\n",
    "    for char in text:\n",
    "        if char.isalpha():\n",
    "            shift_amount = shift % 26\n",
    "            if char.islower():\n",
    "                encrypted_char = chr(((ord(char) - ord('a') + shift_amount) % 26) + ord('a'))\n",
    "            else:\n",
    "                encrypted_char = chr(((ord(char) - ord('A') + shift_amount) % 26) + ord('A'))\n",
    "        else:\n",
    "            encrypted_char = char\n",
    "        encrypted_text += encrypted_char\n",
    "    return encrypted_text\n",
    "\n",
    "def main():\n",
    "    client_socket = socket.socket(socket.AF_INET, socket.SOCK_STREAM)\n",
    "    server_address = ('localhost', 12345)\n",
    "    client_socket.connect(server_address)\n",
    "\n",
    "    message = input(\"Enter a message: \")\n",
    "    shift = 3  # You can change the shift value as needed\n",
    "    encrypted_message = caesar_cipher(message, shift)\n",
    "\n",
    "    client_socket.send(encrypted_message.encode('utf-8'))\n",
    "    print(\"Encrypted message sent to server:\", encrypted_message)\n",
    "\n",
    "    decrypted_message = client_socket.recv(1024).decode('utf-8')\n",
    "    print(\"Decrypted message received from server:\", decrypted_message)\n",
    "\n",
    "    client_socket.close()\n",
    "\n",
    "if __name__ == '__main__':\n",
    "    main()\n"
   ]
  },
  {
   "cell_type": "code",
   "execution_count": null,
   "metadata": {},
   "outputs": [],
   "source": []
  }
 ],
 "metadata": {
  "kernelspec": {
   "display_name": "Python 3",
   "language": "python",
   "name": "python3"
  },
  "language_info": {
   "codemirror_mode": {
    "name": "ipython",
    "version": 3
   },
   "file_extension": ".py",
   "mimetype": "text/x-python",
   "name": "python",
   "nbconvert_exporter": "python",
   "pygments_lexer": "ipython3",
   "version": "3.11.5"
  }
 },
 "nbformat": 4,
 "nbformat_minor": 2
}
