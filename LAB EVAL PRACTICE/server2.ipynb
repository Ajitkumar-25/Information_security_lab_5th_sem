{
 "cells": [
  {
   "cell_type": "code",
   "execution_count": 2,
   "metadata": {},
   "outputs": [
    {
     "name": "stdout",
     "output_type": "stream",
     "text": [
      "key1 = [1, 1, 1, 0, 0, 0, 1, 0]\n",
      "key2 = [1, 0, 0, 0, 0, 1, 1, 1]\n",
      "Server is waiting for a connection...\n",
      "Connection from ('127.0.0.1', 63144)\n"
     ]
    }
   ],
   "source": [
    "import socket\n",
    "\n",
    "# Key Generation Functions\n",
    "def permut10(key):\n",
    "    return [key[2], key[4], key[1], key[6], key[3], key[9], key[0], key[8], key[7], key[5]]\n",
    "\n",
    "def leftCircularShift(key, shift):\n",
    "    return key[shift:] + key[:shift]\n",
    "\n",
    "def permutationP8(key):\n",
    "    return [key[5], key[2], key[6], key[3], key[7], key[4], key[9], key[8]]\n",
    "\n",
    "def leftCircularShift8(key):\n",
    "    return leftCircularShift(key, 1) + leftCircularShift(key[5:], 1)\n",
    "\n",
    "# DES Functions\n",
    "def initialPermutation(plaintext):\n",
    "    return [plaintext[1], plaintext[5], plaintext[2], plaintext[0], plaintext[3], plaintext[7], plaintext[4], plaintext[6]]\n",
    "\n",
    "def expandAndPermute(rightHalf):\n",
    "    return [rightHalf[3], rightHalf[0], rightHalf[1], rightHalf[2], rightHalf[1], rightHalf[2], rightHalf[3], rightHalf[0]]\n",
    "\n",
    "def xorOperation(a, b):\n",
    "    return [bit_a ^ bit_b for bit_a, bit_b in zip(a, b)]\n",
    "\n",
    "# Key and plaintext\n",
    "key = [1, 0, 1, 0, 1, 0, 1, 0, 1, 0]\n",
    "plaintext = [\n",
    "    0, 1, 0, 0, 1, 0, 0, 1,\n",
    "    0, 0, 0, 0, 1, 0, 1, 0,\n",
    "    0, 0, 0, 0, 0, 1, 0, 1,\n",
    "    0, 1, 0, 0, 0, 0, 0, 1\n",
    "]  # 32-bit plaintext\n",
    "\n",
    "key = permut10(key)\n",
    "k1 = permutationP8(leftCircularShift8(key))\n",
    "k2 = permutationP8(leftCircularShift8(leftCircularShift8(key)))\n",
    "\n",
    "print(\"key1 =\", k1)\n",
    "print(\"key2 =\", k2)\n",
    "\n",
    "initial_permutation = initialPermutation(plaintext)\n",
    "leftHalf = initial_permutation[:4]\n",
    "rightHalf = initial_permutation[4:]\n",
    "\n",
    "expandedRightHalf = expandAndPermute(rightHalf)\n",
    "f1 = xorOperation(expandedRightHalf, k1)\n",
    "f2 = xorOperation(k2, expandedRightHalf)\n",
    "\n",
    "leftHalf = xorOperation(leftHalf, f1)\n",
    "ciphertext = leftHalf + rightHalf\n",
    "\n",
    "# Create a socket\n",
    "server_socket = socket.socket(socket.AF_INET, socket.SOCK_STREAM)\n",
    "\n",
    "# Bind the socket to a specific address and port\n",
    "server_address = ('localhost', 8080)\n",
    "server_socket.bind(server_address)\n",
    "\n",
    "# Listen for incoming connections\n",
    "server_socket.listen(1)\n",
    "print(\"Server is waiting for a connection...\")\n",
    "\n",
    "# Accept a connection from a client\n",
    "client_socket, client_address = server_socket.accept()\n",
    "print(f\"Connection from {client_address}\")\n",
    "\n",
    "# Send the ciphertext to the client\n",
    "client_socket.send(\"\".join(map(str, ciphertext)).encode('utf-8'))\n",
    "\n",
    "# Close the connection\n",
    "client_socket.close()\n",
    "server_socket.close()\n"
   ]
  },
  {
   "cell_type": "code",
   "execution_count": null,
   "metadata": {},
   "outputs": [],
   "source": []
  }
 ],
 "metadata": {
  "kernelspec": {
   "display_name": "Python 3",
   "language": "python",
   "name": "python3"
  },
  "language_info": {
   "codemirror_mode": {
    "name": "ipython",
    "version": 3
   },
   "file_extension": ".py",
   "mimetype": "text/x-python",
   "name": "python",
   "nbconvert_exporter": "python",
   "pygments_lexer": "ipython3",
   "version": "3.11.5"
  }
 },
 "nbformat": 4,
 "nbformat_minor": 2
}
