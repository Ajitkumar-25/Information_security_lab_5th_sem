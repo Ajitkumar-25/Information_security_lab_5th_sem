{
 "cells": [
  {
   "cell_type": "code",
   "execution_count": 1,
   "metadata": {},
   "outputs": [
    {
     "name": "stdout",
     "output_type": "stream",
     "text": [
      "Server is listening on localhost:12345\n",
      "Received connection from 127.0.0.1:56451\n",
      "Received from client: Hi\n"
     ]
    }
   ],
   "source": [
    "import socket\n",
    "\n",
    "def main():\n",
    "    server_socket = socket.socket(socket.AF_INET, socket.SOCK_STREAM)\n",
    "    server_address = ('localhost', 12345)\n",
    "    server_socket.bind(server_address)\n",
    "    server_socket.listen(1)\n",
    "    print(\"Server is listening on {}:{}\".format(*server_address))\n",
    "\n",
    "    client_socket, client_address = server_socket.accept()\n",
    "    print(\"Received connection from {}:{}\".format(*client_address))\n",
    "\n",
    "    data = client_socket.recv(1024).decode('utf-8')\n",
    "    print(\"Received from client:\", data)\n",
    "\n",
    "    response = \"Hi, client! I received your message.\"\n",
    "    client_socket.send(response.encode('utf-8'))\n",
    "\n",
    "    client_socket.close()\n",
    "    server_socket.close()\n",
    "\n",
    "if __name__ == '__main__':\n",
    "    main()\n"
   ]
  },
  {
   "cell_type": "code",
   "execution_count": null,
   "metadata": {},
   "outputs": [],
   "source": []
  }
 ],
 "metadata": {
  "kernelspec": {
   "display_name": "Python 3",
   "language": "python",
   "name": "python3"
  },
  "language_info": {
   "codemirror_mode": {
    "name": "ipython",
    "version": 3
   },
   "file_extension": ".py",
   "mimetype": "text/x-python",
   "name": "python",
   "nbconvert_exporter": "python",
   "pygments_lexer": "ipython3",
   "version": "3.11.5"
  }
 },
 "nbformat": 4,
 "nbformat_minor": 2
}
