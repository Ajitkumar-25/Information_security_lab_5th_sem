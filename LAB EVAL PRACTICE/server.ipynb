{
 "cells": [
  {
   "cell_type": "code",
   "execution_count": 4,
   "metadata": {},
   "outputs": [
    {
     "name": "stdout",
     "output_type": "stream",
     "text": [
      "Server is listening on localhost:12345\n",
      "Received connection from 127.0.0.1:56274\n",
      "Encrypted message received from client: Khoor Pb qdph lv Dmlw Nxpdu\n",
      "Decrypted message: Hello My name is Ajit Kumar\n"
     ]
    }
   ],
   "source": [
    "import socket\n",
    "\n",
    "def caesar_cipher(text, shift):\n",
    "    encrypted_text = \"\"\n",
    "    for char in text:\n",
    "        if char.isalpha():\n",
    "            shift_amount = shift % 26\n",
    "            if char.islower():\n",
    "                encrypted_char = chr(((ord(char) - ord('a') + shift_amount) % 26) + ord('a'))\n",
    "            else:\n",
    "                encrypted_char = chr(((ord(char) - ord('A') + shift_amount) % 26) + ord('A'))\n",
    "        else:\n",
    "            encrypted_char = char\n",
    "        encrypted_text += encrypted_char\n",
    "    return encrypted_text\n",
    "\n",
    "def caesar_decipher(text, shift):\n",
    "    decrypted_text = \"\"\n",
    "    for char in text:\n",
    "        if char.isalpha():\n",
    "            shift_amount = shift % 26\n",
    "            if char.islower():\n",
    "                decrypted_char = chr(((ord(char) - ord('a') - shift_amount) % 26) + ord('a'))\n",
    "            else:\n",
    "                decrypted_char = chr(((ord(char) - ord('A') - shift_amount) % 26) + ord('A'))\n",
    "        else:\n",
    "            decrypted_char = char\n",
    "        decrypted_text += decrypted_char\n",
    "    return decrypted_text\n",
    "\n",
    "def main():\n",
    "    server_socket = socket.socket(socket.AF_INET, socket.SOCK_STREAM)\n",
    "    server_address = ('localhost', 12345)\n",
    "    server_socket.bind(server_address)\n",
    "    server_socket.listen(1)\n",
    "    print(\"Server is listening on {}:{}\".format(*server_address))\n",
    "\n",
    "    client_socket, client_address = server_socket.accept()\n",
    "    print(\"Received connection from {}:{}\".format(*client_address))\n",
    "\n",
    "    while True:\n",
    "        encrypted_data = client_socket.recv(1024).decode('utf-8')\n",
    "        if not encrypted_data:\n",
    "            break\n",
    "        print(\"Encrypted message received from client:\", encrypted_data)\n",
    "\n",
    "        shift = 3  # You can change the shift value as needed\n",
    "        decrypted_data = caesar_decipher(encrypted_data, shift)\n",
    "        print(\"Decrypted message:\", decrypted_data)\n",
    "\n",
    "        client_socket.send(decrypted_data.encode('utf-8'))\n",
    "\n",
    "    client_socket.close()\n",
    "    server_socket.close()\n",
    "\n",
    "if __name__ == '__main__':\n",
    "    main()\n"
   ]
  },
  {
   "cell_type": "code",
   "execution_count": null,
   "metadata": {},
   "outputs": [],
   "source": []
  }
 ],
 "metadata": {
  "kernelspec": {
   "display_name": "Python 3",
   "language": "python",
   "name": "python3"
  },
  "language_info": {
   "codemirror_mode": {
    "name": "ipython",
    "version": 3
   },
   "file_extension": ".py",
   "mimetype": "text/x-python",
   "name": "python",
   "nbconvert_exporter": "python",
   "pygments_lexer": "ipython3",
   "version": "3.11.5"
  }
 },
 "nbformat": 4,
 "nbformat_minor": 2
}
